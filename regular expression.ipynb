import re
sentence = 'this is a Sample String'
#re.search(pattern, string, flags) #re.search(문자열에서 패턴을 써치)
print(re.search(r'is', sentence))
print(bool(re.search(r'is',sentence)))

# flag 사용할시 소문자도 대문자로 찾아줌
print(bool(re.search(r'this',sentence)))
print(bool(re.search(r'this',sentence, flags = re.I)))

pet =re.compile(r'this',flags = re.I)
print(bool(pet.search(sentence)))

print(re.sub(r'A','X','ABC')) 

pet = re.compile(r'cat|dog|bird') #또는 을 찾아라, 일부분만 있어도 찾아줌
bool(pet.search('I like cat'))


